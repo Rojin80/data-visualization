{
 "cells": [
  {
   "cell_type": "code",
   "execution_count": 1,
   "id": "970fff69",
   "metadata": {},
   "outputs": [],
   "source": [
    "import pandas as pd\n",
    "import numpy as np\n",
    "import matplotlib"
   ]
  },
  {
   "cell_type": "code",
   "execution_count": 17,
   "id": "1fe0a498",
   "metadata": {},
   "outputs": [],
   "source": [
    "data = pd.read_csv(\"apple_daily.csv\")"
   ]
  },
  {
   "cell_type": "code",
   "execution_count": 18,
   "id": "2ec0a2ec",
   "metadata": {},
   "outputs": [
    {
     "data": {
      "text/html": [
       "<div>\n",
       "<style scoped>\n",
       "    .dataframe tbody tr th:only-of-type {\n",
       "        vertical-align: middle;\n",
       "    }\n",
       "\n",
       "    .dataframe tbody tr th {\n",
       "        vertical-align: top;\n",
       "    }\n",
       "\n",
       "    .dataframe thead th {\n",
       "        text-align: right;\n",
       "    }\n",
       "</style>\n",
       "<table border=\"1\" class=\"dataframe\">\n",
       "  <thead>\n",
       "    <tr style=\"text-align: right;\">\n",
       "      <th></th>\n",
       "      <th>Date</th>\n",
       "      <th>Open</th>\n",
       "      <th>High</th>\n",
       "      <th>Low</th>\n",
       "      <th>Close</th>\n",
       "      <th>Adj Close</th>\n",
       "      <th>Volume</th>\n",
       "    </tr>\n",
       "  </thead>\n",
       "  <tbody>\n",
       "    <tr>\n",
       "      <th>0</th>\n",
       "      <td>2019-09-10</td>\n",
       "      <td>53.465000</td>\n",
       "      <td>54.195000</td>\n",
       "      <td>52.927502</td>\n",
       "      <td>54.174999</td>\n",
       "      <td>53.642761</td>\n",
       "      <td>127111600</td>\n",
       "    </tr>\n",
       "    <tr>\n",
       "      <th>1</th>\n",
       "      <td>2019-09-11</td>\n",
       "      <td>54.517502</td>\n",
       "      <td>55.927502</td>\n",
       "      <td>54.432499</td>\n",
       "      <td>55.897499</td>\n",
       "      <td>55.348343</td>\n",
       "      <td>177158400</td>\n",
       "    </tr>\n",
       "    <tr>\n",
       "      <th>2</th>\n",
       "      <td>2019-09-12</td>\n",
       "      <td>56.200001</td>\n",
       "      <td>56.605000</td>\n",
       "      <td>55.715000</td>\n",
       "      <td>55.772499</td>\n",
       "      <td>55.224567</td>\n",
       "      <td>128906800</td>\n",
       "    </tr>\n",
       "    <tr>\n",
       "      <th>3</th>\n",
       "      <td>2019-09-13</td>\n",
       "      <td>55.000000</td>\n",
       "      <td>55.197498</td>\n",
       "      <td>54.255001</td>\n",
       "      <td>54.687500</td>\n",
       "      <td>54.150230</td>\n",
       "      <td>159053200</td>\n",
       "    </tr>\n",
       "    <tr>\n",
       "      <th>4</th>\n",
       "      <td>2019-09-16</td>\n",
       "      <td>54.432499</td>\n",
       "      <td>55.032501</td>\n",
       "      <td>54.389999</td>\n",
       "      <td>54.974998</td>\n",
       "      <td>54.434902</td>\n",
       "      <td>84632400</td>\n",
       "    </tr>\n",
       "  </tbody>\n",
       "</table>\n",
       "</div>"
      ],
      "text/plain": [
       "         Date       Open       High        Low      Close  Adj Close  \\\n",
       "0  2019-09-10  53.465000  54.195000  52.927502  54.174999  53.642761   \n",
       "1  2019-09-11  54.517502  55.927502  54.432499  55.897499  55.348343   \n",
       "2  2019-09-12  56.200001  56.605000  55.715000  55.772499  55.224567   \n",
       "3  2019-09-13  55.000000  55.197498  54.255001  54.687500  54.150230   \n",
       "4  2019-09-16  54.432499  55.032501  54.389999  54.974998  54.434902   \n",
       "\n",
       "      Volume  \n",
       "0  127111600  \n",
       "1  177158400  \n",
       "2  128906800  \n",
       "3  159053200  \n",
       "4   84632400  "
      ]
     },
     "execution_count": 18,
     "metadata": {},
     "output_type": "execute_result"
    }
   ],
   "source": [
    "data.head()"
   ]
  },
  {
   "cell_type": "code",
   "execution_count": 19,
   "id": "a1955e9c",
   "metadata": {},
   "outputs": [
    {
     "data": {
      "text/html": [
       "<div>\n",
       "<style scoped>\n",
       "    .dataframe tbody tr th:only-of-type {\n",
       "        vertical-align: middle;\n",
       "    }\n",
       "\n",
       "    .dataframe tbody tr th {\n",
       "        vertical-align: top;\n",
       "    }\n",
       "\n",
       "    .dataframe thead th {\n",
       "        text-align: right;\n",
       "    }\n",
       "</style>\n",
       "<table border=\"1\" class=\"dataframe\">\n",
       "  <thead>\n",
       "    <tr style=\"text-align: right;\">\n",
       "      <th></th>\n",
       "      <th>Date</th>\n",
       "      <th>Open</th>\n",
       "      <th>High</th>\n",
       "      <th>Low</th>\n",
       "      <th>Close</th>\n",
       "      <th>Adj Close</th>\n",
       "      <th>Volume</th>\n",
       "    </tr>\n",
       "  </thead>\n",
       "  <tbody>\n",
       "    <tr>\n",
       "      <th>249</th>\n",
       "      <td>2020-09-03</td>\n",
       "      <td>126.910004</td>\n",
       "      <td>128.839996</td>\n",
       "      <td>120.500000</td>\n",
       "      <td>120.879997</td>\n",
       "      <td>120.879997</td>\n",
       "      <td>257599600</td>\n",
       "    </tr>\n",
       "    <tr>\n",
       "      <th>250</th>\n",
       "      <td>2020-09-04</td>\n",
       "      <td>120.070000</td>\n",
       "      <td>123.699997</td>\n",
       "      <td>110.889999</td>\n",
       "      <td>120.959999</td>\n",
       "      <td>120.959999</td>\n",
       "      <td>332607200</td>\n",
       "    </tr>\n",
       "    <tr>\n",
       "      <th>251</th>\n",
       "      <td>2020-09-08</td>\n",
       "      <td>113.949997</td>\n",
       "      <td>118.989998</td>\n",
       "      <td>112.680000</td>\n",
       "      <td>112.820000</td>\n",
       "      <td>112.820000</td>\n",
       "      <td>231366600</td>\n",
       "    </tr>\n",
       "    <tr>\n",
       "      <th>252</th>\n",
       "      <td>2020-09-09</td>\n",
       "      <td>117.260002</td>\n",
       "      <td>119.139999</td>\n",
       "      <td>115.260002</td>\n",
       "      <td>117.320000</td>\n",
       "      <td>117.320000</td>\n",
       "      <td>176276400</td>\n",
       "    </tr>\n",
       "    <tr>\n",
       "      <th>253</th>\n",
       "      <td>2020-09-10</td>\n",
       "      <td>120.360001</td>\n",
       "      <td>120.419998</td>\n",
       "      <td>114.150002</td>\n",
       "      <td>114.274597</td>\n",
       "      <td>114.274597</td>\n",
       "      <td>118115972</td>\n",
       "    </tr>\n",
       "  </tbody>\n",
       "</table>\n",
       "</div>"
      ],
      "text/plain": [
       "           Date        Open        High         Low       Close   Adj Close  \\\n",
       "249  2020-09-03  126.910004  128.839996  120.500000  120.879997  120.879997   \n",
       "250  2020-09-04  120.070000  123.699997  110.889999  120.959999  120.959999   \n",
       "251  2020-09-08  113.949997  118.989998  112.680000  112.820000  112.820000   \n",
       "252  2020-09-09  117.260002  119.139999  115.260002  117.320000  117.320000   \n",
       "253  2020-09-10  120.360001  120.419998  114.150002  114.274597  114.274597   \n",
       "\n",
       "        Volume  \n",
       "249  257599600  \n",
       "250  332607200  \n",
       "251  231366600  \n",
       "252  176276400  \n",
       "253  118115972  "
      ]
     },
     "execution_count": 19,
     "metadata": {},
     "output_type": "execute_result"
    }
   ],
   "source": [
    "data.tail()"
   ]
  },
  {
   "cell_type": "code",
   "execution_count": 20,
   "id": "d11ef128",
   "metadata": {},
   "outputs": [
    {
     "name": "stdout",
     "output_type": "stream",
     "text": [
      "<class 'pandas.core.frame.DataFrame'>\n",
      "RangeIndex: 254 entries, 0 to 253\n",
      "Data columns (total 7 columns):\n",
      " #   Column     Non-Null Count  Dtype  \n",
      "---  ------     --------------  -----  \n",
      " 0   Date       254 non-null    object \n",
      " 1   Open       254 non-null    float64\n",
      " 2   High       254 non-null    float64\n",
      " 3   Low        254 non-null    float64\n",
      " 4   Close      254 non-null    float64\n",
      " 5   Adj Close  254 non-null    float64\n",
      " 6   Volume     254 non-null    int64  \n",
      "dtypes: float64(5), int64(1), object(1)\n",
      "memory usage: 14.0+ KB\n"
     ]
    },
    {
     "data": {
      "text/html": [
       "<div>\n",
       "<style scoped>\n",
       "    .dataframe tbody tr th:only-of-type {\n",
       "        vertical-align: middle;\n",
       "    }\n",
       "\n",
       "    .dataframe tbody tr th {\n",
       "        vertical-align: top;\n",
       "    }\n",
       "\n",
       "    .dataframe thead th {\n",
       "        text-align: right;\n",
       "    }\n",
       "</style>\n",
       "<table border=\"1\" class=\"dataframe\">\n",
       "  <thead>\n",
       "    <tr style=\"text-align: right;\">\n",
       "      <th></th>\n",
       "      <th>Open</th>\n",
       "      <th>High</th>\n",
       "      <th>Low</th>\n",
       "      <th>Close</th>\n",
       "      <th>Adj Close</th>\n",
       "      <th>Volume</th>\n",
       "    </tr>\n",
       "  </thead>\n",
       "  <tbody>\n",
       "    <tr>\n",
       "      <th>count</th>\n",
       "      <td>254.000000</td>\n",
       "      <td>254.000000</td>\n",
       "      <td>254.000000</td>\n",
       "      <td>254.000000</td>\n",
       "      <td>254.000000</td>\n",
       "      <td>2.540000e+02</td>\n",
       "    </tr>\n",
       "    <tr>\n",
       "      <th>mean</th>\n",
       "      <td>77.811968</td>\n",
       "      <td>78.881654</td>\n",
       "      <td>76.853898</td>\n",
       "      <td>77.962006</td>\n",
       "      <td>77.629584</td>\n",
       "      <td>1.446323e+08</td>\n",
       "    </tr>\n",
       "    <tr>\n",
       "      <th>std</th>\n",
       "      <td>18.397894</td>\n",
       "      <td>18.637236</td>\n",
       "      <td>17.870732</td>\n",
       "      <td>18.242082</td>\n",
       "      <td>18.386763</td>\n",
       "      <td>6.735329e+07</td>\n",
       "    </tr>\n",
       "    <tr>\n",
       "      <th>min</th>\n",
       "      <td>53.465000</td>\n",
       "      <td>54.195000</td>\n",
       "      <td>52.927502</td>\n",
       "      <td>54.174999</td>\n",
       "      <td>53.642761</td>\n",
       "      <td>4.661760e+07</td>\n",
       "    </tr>\n",
       "    <tr>\n",
       "      <th>25%</th>\n",
       "      <td>64.830624</td>\n",
       "      <td>65.803123</td>\n",
       "      <td>64.538122</td>\n",
       "      <td>65.456249</td>\n",
       "      <td>65.007768</td>\n",
       "      <td>1.006259e+08</td>\n",
       "    </tr>\n",
       "    <tr>\n",
       "      <th>50%</th>\n",
       "      <td>73.969998</td>\n",
       "      <td>75.187500</td>\n",
       "      <td>72.616249</td>\n",
       "      <td>74.373749</td>\n",
       "      <td>73.951840</td>\n",
       "      <td>1.275770e+08</td>\n",
       "    </tr>\n",
       "    <tr>\n",
       "      <th>75%</th>\n",
       "      <td>85.463125</td>\n",
       "      <td>86.817497</td>\n",
       "      <td>83.452499</td>\n",
       "      <td>85.485623</td>\n",
       "      <td>85.331766</td>\n",
       "      <td>1.676812e+08</td>\n",
       "    </tr>\n",
       "    <tr>\n",
       "      <th>max</th>\n",
       "      <td>137.589996</td>\n",
       "      <td>137.979996</td>\n",
       "      <td>130.529999</td>\n",
       "      <td>134.179993</td>\n",
       "      <td>134.179993</td>\n",
       "      <td>4.184740e+08</td>\n",
       "    </tr>\n",
       "  </tbody>\n",
       "</table>\n",
       "</div>"
      ],
      "text/plain": [
       "             Open        High         Low       Close   Adj Close  \\\n",
       "count  254.000000  254.000000  254.000000  254.000000  254.000000   \n",
       "mean    77.811968   78.881654   76.853898   77.962006   77.629584   \n",
       "std     18.397894   18.637236   17.870732   18.242082   18.386763   \n",
       "min     53.465000   54.195000   52.927502   54.174999   53.642761   \n",
       "25%     64.830624   65.803123   64.538122   65.456249   65.007768   \n",
       "50%     73.969998   75.187500   72.616249   74.373749   73.951840   \n",
       "75%     85.463125   86.817497   83.452499   85.485623   85.331766   \n",
       "max    137.589996  137.979996  130.529999  134.179993  134.179993   \n",
       "\n",
       "             Volume  \n",
       "count  2.540000e+02  \n",
       "mean   1.446323e+08  \n",
       "std    6.735329e+07  \n",
       "min    4.661760e+07  \n",
       "25%    1.006259e+08  \n",
       "50%    1.275770e+08  \n",
       "75%    1.676812e+08  \n",
       "max    4.184740e+08  "
      ]
     },
     "execution_count": 20,
     "metadata": {},
     "output_type": "execute_result"
    }
   ],
   "source": [
    "data.info()\n",
    "data.describe()"
   ]
  },
  {
   "cell_type": "code",
   "execution_count": 21,
   "id": "bc0673a9",
   "metadata": {},
   "outputs": [
    {
     "name": "stdout",
     "output_type": "stream",
     "text": [
      "<class 'pandas.core.frame.DataFrame'>\n",
      "RangeIndex: 254 entries, 0 to 253\n",
      "Data columns (total 7 columns):\n",
      " #   Column     Non-Null Count  Dtype         \n",
      "---  ------     --------------  -----         \n",
      " 0   Date       254 non-null    datetime64[ns]\n",
      " 1   Open       254 non-null    float64       \n",
      " 2   High       254 non-null    float64       \n",
      " 3   Low        254 non-null    float64       \n",
      " 4   Close      254 non-null    float64       \n",
      " 5   Adj Close  254 non-null    float64       \n",
      " 6   Volume     254 non-null    int64         \n",
      "dtypes: datetime64[ns](1), float64(5), int64(1)\n",
      "memory usage: 14.0 KB\n"
     ]
    }
   ],
   "source": [
    "data[\"Date\"] = data[\"Date\"].apply(pd.to_datetime)\n",
    "data.info()"
   ]
  },
  {
   "cell_type": "code",
   "execution_count": 22,
   "id": "9f860a04",
   "metadata": {},
   "outputs": [],
   "source": [
    "data.set_index('Date' , inplace=True)"
   ]
  },
  {
   "cell_type": "code",
   "execution_count": 23,
   "id": "654aef66",
   "metadata": {},
   "outputs": [
    {
     "data": {
      "text/plain": [
       "<AxesSubplot: xlabel='Date'>"
      ]
     },
     "execution_count": 23,
     "metadata": {},
     "output_type": "execute_result"
    },
    {
     "data": {
      "image/png": "[encoded data removed]",
      "text/plain": [
       "<Figure size 640x480 with 1 Axes>"
      ]
     },
     "metadata": {},
     "output_type": "display_data"
    }
   ],
   "source": [
    "data['Open'].plot()"
   ]
  },
  {
   "cell_type": "code",
   "execution_count": 27,
   "id": "4c72bd2b",
   "metadata": {},
   "outputs": [
    {
     "data": {
      "text/plain": [
       "<AxesSubplot: ylabel='Frequency'>"
      ]
     },
     "execution_count": 27,
     "metadata": {},
     "output_type": "execute_result"
    },
    {
     "data": {
      "image/png": "[encoded data removed]",
      "text/plain": [
       "<Figure size 640x480 with 1 Axes>"
      ]
     },
     "metadata": {},
     "output_type": "display_data"
    }
   ],
   "source": [
    "#monthly \n",
    "data.resample(rule=\"m\").mean()[\"Volume\"].plot(kind=\"hist\")"
   ]
  },
  {
   "cell_type": "code",
   "execution_count": 29,
   "id": "557215ff",
   "metadata": {},
   "outputs": [
    {
     "data": {
      "text/plain": [
       "<AxesSubplot: xlabel='Date'>"
      ]
     },
     "execution_count": 29,
     "metadata": {},
     "output_type": "execute_result"
    },
    {
     "data": {
      "image/png": "[encoded data removed]",
      "text/plain": [
       "<Figure size 640x480 with 1 Axes>"
      ]
     },
     "metadata": {},
     "output_type": "display_data"
    }
   ],
   "source": [
    "data.resample(rule=\"Q\").mean()[\"Volume\"].plot(kind=\"bar\")"
   ]
  }
 ],
 "metadata": {
  "kernelspec": {
   "display_name": "Python 3 (ipykernel)",
   "language": "python",
   "name": "python3"
  },
  "language_info": {
   "codemirror_mode": {
    "name": "ipython",
    "version": 3
   },
   "file_extension": ".py",
   "mimetype": "text/x-python",
   "name": "python",
   "nbconvert_exporter": "python",
   "pygments_lexer": "ipython3",
   "version": "3.9.0"
  }
 },
 "nbformat": 4,
 "nbformat_minor": 5
}
